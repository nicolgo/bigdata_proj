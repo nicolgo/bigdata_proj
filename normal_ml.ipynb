{
 "cells": [
  {
   "cell_type": "code",
   "execution_count": 55,
   "id": "8a421936",
   "metadata": {},
   "outputs": [],
   "source": [
    "import pandas as pd\n",
    "from sklearn.linear_model import LogisticRegression\n",
    "from sklearn.svm import SVC, LinearSVC\n",
    "from sklearn.ensemble import RandomForestClassifier\n",
    "from sklearn.neighbors import KNeighborsClassifier\n",
    "from sklearn.naive_bayes import GaussianNB\n",
    "from sklearn.linear_model import Perceptron\n",
    "from sklearn.linear_model import SGDClassifier\n",
    "from sklearn.tree import DecisionTreeClassifier\n",
    "\n",
    "from sklearn.metrics import accuracy_score"
   ]
  },
  {
   "cell_type": "code",
   "execution_count": 42,
   "id": "89e3e25f",
   "metadata": {},
   "outputs": [],
   "source": [
    "train_valid_dataset = pd.read_csv('BankChurners.csv')  "
   ]
  },
  {
   "cell_type": "code",
   "execution_count": 43,
   "id": "57101e65",
   "metadata": {},
   "outputs": [
    {
     "name": "stdout",
     "output_type": "stream",
     "text": [
      "      Tenure   Balance  NumOfProducts  HasCrCard  IsActiveMember  \\\n",
      "0        0.3  0.484985       0.000000        1.0             0.0   \n",
      "1        0.6  0.000000       0.000000        1.0             0.0   \n",
      "2        0.2  0.728934       0.000000        1.0             0.0   \n",
      "3        0.2  0.407651       0.333333        1.0             0.0   \n",
      "4        0.7  0.435819       0.333333        1.0             0.0   \n",
      "...      ...       ...            ...        ...             ...   \n",
      "8995     0.3  0.000000       0.000000        1.0             1.0   \n",
      "8996     0.6  0.000000       0.333333        1.0             1.0   \n",
      "8997     0.7  0.393687       0.000000        1.0             0.0   \n",
      "8998     0.8  0.476905       0.333333        0.0             1.0   \n",
      "8999     0.1  0.690881       0.000000        0.0             1.0   \n",
      "\n",
      "      EstimatedSalary  Exited  CreditLevel  \n",
      "0            0.643290     1.0            8  \n",
      "1            0.251062     1.0            7  \n",
      "2            0.015250     0.0            7  \n",
      "3            0.449146     0.0            2  \n",
      "4            0.513377     0.0            7  \n",
      "...               ...     ...          ...  \n",
      "8995         0.240535     0.0            6  \n",
      "8996         0.214993     0.0            6  \n",
      "8997         0.573079     0.0            7  \n",
      "8998         0.742155     1.0            9  \n",
      "8999         0.613887     0.0            4  \n",
      "\n",
      "[9000 rows x 8 columns]\n"
     ]
    }
   ],
   "source": [
    "train_valid_dataset = train_valid_dataset.drop(columns='CustomerId')\n",
    "train_valid_dataset = train_valid_dataset.drop(columns='Geography')\n",
    "res_col = train_valid_dataset['CreditLevel']\n",
    "train_valid_dataset = train_valid_dataset.drop(columns='CreditLevel')\n",
    "\n",
    "#归一化\n",
    "train_valid_dataset = (train_valid_dataset - train_valid_dataset.min()) / (train_valid_dataset.max() - train_valid_dataset.min())\n",
    "train_valid_dataset['CreditLevel'] = res_col\n",
    "print(train_valid_dataset)"
   ]
  },
  {
   "cell_type": "code",
   "execution_count": 44,
   "id": "082da04d",
   "metadata": {},
   "outputs": [],
   "source": [
    "train_data = train_valid_dataset[0:7200]\n",
    "test_data = train_valid_dataset[7200:9000]"
   ]
  },
  {
   "cell_type": "code",
   "execution_count": 45,
   "id": "956c4308",
   "metadata": {},
   "outputs": [],
   "source": [
    "X_train = train_data.drop(\"CreditLevel\", axis=1)\n",
    "Y_train = train_data[\"CreditLevel\"]\n",
    "\n",
    "X_test  = test_data.drop(\"CreditLevel\", axis=1).copy()\n",
    "Y_test = test_data[\"CreditLevel\"]"
   ]
  },
  {
   "cell_type": "code",
   "execution_count": null,
   "id": "a1c3e9aa",
   "metadata": {},
   "outputs": [],
   "source": []
  },
  {
   "cell_type": "code",
   "execution_count": 57,
   "id": "1a998004",
   "metadata": {},
   "outputs": [],
   "source": [
    "logreg = LogisticRegression()"
   ]
  },
  {
   "cell_type": "code",
   "execution_count": 63,
   "id": "272da3db",
   "metadata": {},
   "outputs": [
    {
     "name": "stdout",
     "output_type": "stream",
     "text": [
      "0.22\n",
      "0.21611111111111111\n"
     ]
    },
    {
     "name": "stderr",
     "output_type": "stream",
     "text": [
      "C:\\Users\\52750\\anaconda3\\lib\\site-packages\\sklearn\\linear_model\\_logistic.py:763: ConvergenceWarning: lbfgs failed to converge (status=1):\n",
      "STOP: TOTAL NO. of ITERATIONS REACHED LIMIT.\n",
      "\n",
      "Increase the number of iterations (max_iter) or scale the data as shown in:\n",
      "    https://scikit-learn.org/stable/modules/preprocessing.html\n",
      "Please also refer to the documentation for alternative solver options:\n",
      "    https://scikit-learn.org/stable/modules/linear_model.html#logistic-regression\n",
      "  n_iter_i = _check_optimize_result(\n"
     ]
    }
   ],
   "source": [
    "\n",
    "logreg.fit(X_train, Y_train)\n",
    "Y_pred = logreg.predict(X_test)\n",
    "print(accuracy_score(Y_test, Y_pred))\n",
    "\n",
    "Y_train_pred = logreg.predict(X_train)\n",
    "print(accuracy_score(Y_train, Y_train_pred))"
   ]
  },
  {
   "cell_type": "code",
   "execution_count": 47,
   "id": "c46adf99",
   "metadata": {},
   "outputs": [
    {
     "name": "stdout",
     "output_type": "stream",
     "text": [
      "0.21888888888888888\n"
     ]
    }
   ],
   "source": [
    "svc = SVC()\n",
    "svc.fit(X_train, Y_train)\n",
    "Y_pred = svc.predict(X_test)\n",
    "print(accuracy_score(Y_test, Y_pred))"
   ]
  },
  {
   "cell_type": "code",
   "execution_count": 48,
   "id": "45020a3f",
   "metadata": {},
   "outputs": [
    {
     "name": "stdout",
     "output_type": "stream",
     "text": [
      "0.21166666666666667\n"
     ]
    }
   ],
   "source": [
    "sgd = SGDClassifier()\n",
    "sgd.fit(X_train, Y_train)\n",
    "Y_pred = sgd.predict(X_test)\n",
    "print(accuracy_score(Y_test, Y_pred))"
   ]
  },
  {
   "cell_type": "code",
   "execution_count": 49,
   "id": "2ed19336",
   "metadata": {},
   "outputs": [
    {
     "name": "stdout",
     "output_type": "stream",
     "text": [
      "0.14944444444444444\n"
     ]
    }
   ],
   "source": [
    "decision_tree = DecisionTreeClassifier()\n",
    "decision_tree.fit(X_train, Y_train)\n",
    "Y_pred = decision_tree.predict(X_test)\n",
    "print(accuracy_score(Y_test, Y_pred))"
   ]
  },
  {
   "cell_type": "code",
   "execution_count": 53,
   "id": "fd4723e3",
   "metadata": {},
   "outputs": [
    {
     "name": "stdout",
     "output_type": "stream",
     "text": [
      "0.1738888888888889\n"
     ]
    }
   ],
   "source": [
    "random_forest = RandomForestClassifier(n_estimators=100)\n",
    "random_forest.fit(X_train, Y_train)\n",
    "Y_pred = random_forest.predict(X_test)\n",
    "print(accuracy_score(Y_test, Y_pred))"
   ]
  },
  {
   "cell_type": "code",
   "execution_count": null,
   "id": "75b45930",
   "metadata": {},
   "outputs": [],
   "source": []
  },
  {
   "cell_type": "code",
   "execution_count": null,
   "id": "f2ccdfa9",
   "metadata": {},
   "outputs": [],
   "source": []
  },
  {
   "cell_type": "code",
   "execution_count": null,
   "id": "fcd78c54",
   "metadata": {},
   "outputs": [],
   "source": []
  }
 ],
 "metadata": {
  "kernelspec": {
   "display_name": "Python 3",
   "language": "python",
   "name": "python3"
  },
  "language_info": {
   "codemirror_mode": {
    "name": "ipython",
    "version": 3
   },
   "file_extension": ".py",
   "mimetype": "text/x-python",
   "name": "python",
   "nbconvert_exporter": "python",
   "pygments_lexer": "ipython3",
   "version": "3.8.8"
  }
 },
 "nbformat": 4,
 "nbformat_minor": 5
}
