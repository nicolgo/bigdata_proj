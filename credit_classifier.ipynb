{
 "cells": [
  {
   "cell_type": "code",
   "execution_count": 1,
   "id": "7458f15c",
   "metadata": {
    "scrolled": true
   },
   "outputs": [
    {
     "name": "stdout",
     "output_type": "stream",
     "text": [
      "(9000, 10)\n",
      "(9000, 8)\n"
     ]
    },
    {
     "data": {
      "text/html": [
       "<div>\n",
       "<style scoped>\n",
       "    .dataframe tbody tr th:only-of-type {\n",
       "        vertical-align: middle;\n",
       "    }\n",
       "\n",
       "    .dataframe tbody tr th {\n",
       "        vertical-align: top;\n",
       "    }\n",
       "\n",
       "    .dataframe thead th {\n",
       "        text-align: right;\n",
       "    }\n",
       "</style>\n",
       "<table border=\"1\" class=\"dataframe\">\n",
       "  <thead>\n",
       "    <tr style=\"text-align: right;\">\n",
       "      <th></th>\n",
       "      <th>Tenure</th>\n",
       "      <th>Balance</th>\n",
       "      <th>NumOfProducts</th>\n",
       "      <th>HasCrCard</th>\n",
       "      <th>IsActiveMember</th>\n",
       "      <th>EstimatedSalary</th>\n",
       "      <th>Exited</th>\n",
       "      <th>CreditLevel</th>\n",
       "    </tr>\n",
       "  </thead>\n",
       "  <tbody>\n",
       "    <tr>\n",
       "      <th>0</th>\n",
       "      <td>0.3</td>\n",
       "      <td>0.484985</td>\n",
       "      <td>0.000000</td>\n",
       "      <td>1.0</td>\n",
       "      <td>0.0</td>\n",
       "      <td>0.643290</td>\n",
       "      <td>1.0</td>\n",
       "      <td>7</td>\n",
       "    </tr>\n",
       "    <tr>\n",
       "      <th>1</th>\n",
       "      <td>0.6</td>\n",
       "      <td>0.000000</td>\n",
       "      <td>0.000000</td>\n",
       "      <td>1.0</td>\n",
       "      <td>0.0</td>\n",
       "      <td>0.251062</td>\n",
       "      <td>1.0</td>\n",
       "      <td>6</td>\n",
       "    </tr>\n",
       "    <tr>\n",
       "      <th>2</th>\n",
       "      <td>0.2</td>\n",
       "      <td>0.728934</td>\n",
       "      <td>0.000000</td>\n",
       "      <td>1.0</td>\n",
       "      <td>0.0</td>\n",
       "      <td>0.015250</td>\n",
       "      <td>0.0</td>\n",
       "      <td>6</td>\n",
       "    </tr>\n",
       "    <tr>\n",
       "      <th>3</th>\n",
       "      <td>0.2</td>\n",
       "      <td>0.407651</td>\n",
       "      <td>0.333333</td>\n",
       "      <td>1.0</td>\n",
       "      <td>0.0</td>\n",
       "      <td>0.449146</td>\n",
       "      <td>0.0</td>\n",
       "      <td>1</td>\n",
       "    </tr>\n",
       "    <tr>\n",
       "      <th>4</th>\n",
       "      <td>0.7</td>\n",
       "      <td>0.435819</td>\n",
       "      <td>0.333333</td>\n",
       "      <td>1.0</td>\n",
       "      <td>0.0</td>\n",
       "      <td>0.513377</td>\n",
       "      <td>0.0</td>\n",
       "      <td>6</td>\n",
       "    </tr>\n",
       "  </tbody>\n",
       "</table>\n",
       "</div>"
      ],
      "text/plain": [
       "   Tenure   Balance  NumOfProducts  HasCrCard  IsActiveMember  \\\n",
       "0     0.3  0.484985       0.000000        1.0             0.0   \n",
       "1     0.6  0.000000       0.000000        1.0             0.0   \n",
       "2     0.2  0.728934       0.000000        1.0             0.0   \n",
       "3     0.2  0.407651       0.333333        1.0             0.0   \n",
       "4     0.7  0.435819       0.333333        1.0             0.0   \n",
       "\n",
       "   EstimatedSalary  Exited  CreditLevel  \n",
       "0         0.643290     1.0            7  \n",
       "1         0.251062     1.0            6  \n",
       "2         0.015250     0.0            6  \n",
       "3         0.449146     0.0            1  \n",
       "4         0.513377     0.0            6  "
      ]
     },
     "execution_count": 1,
     "metadata": {},
     "output_type": "execute_result"
    }
   ],
   "source": [
    "import torch\n",
    "from torch import nn\n",
    "import pandas as pd\n",
    "from torch.utils.data import TensorDataset,Dataset,DataLoader,random_split\n",
    "\n",
    "def normalize(dataset):\n",
    "    dataNorm=((dataset-dataset.min())/(dataset.max()-dataset.min()))\n",
    "    dataNorm[\"CreditLevel\"]=dataset[\"CreditLevel\"]-1\n",
    "    return dataNorm\n",
    "\n",
    "# data preprocessing\n",
    "train_dataset = pd.read_csv(\"BankChurners.csv\")\n",
    "print(train_dataset.shape)\n",
    "#train_dataset.head(10)\n",
    "train_dataset = train_dataset.drop(['CustomerId','Geography'],axis=1)\n",
    "train_dataset = normalize(train_dataset)\n",
    "print(train_dataset.shape)\n",
    "train_dataset.head()\n"
   ]
  },
  {
   "cell_type": "code",
   "execution_count": 2,
   "id": "d22773b0",
   "metadata": {},
   "outputs": [
    {
     "name": "stdout",
     "output_type": "stream",
     "text": [
      "tensor([[0.2000, 0.5443, 0.3333, 1.0000, 1.0000, 0.6468, 0.0000],\n",
      "        [0.5000, 0.0000, 0.3333, 1.0000, 0.0000, 0.7950, 0.0000],\n",
      "        [0.6000, 0.5571, 0.0000, 1.0000, 0.0000, 0.1372, 1.0000],\n",
      "        [0.3000, 0.3923, 0.0000, 0.0000, 0.0000, 0.3785, 0.0000],\n",
      "        [0.1000, 0.6503, 0.0000, 0.0000, 1.0000, 0.0780, 0.0000],\n",
      "        [0.5000, 0.5596, 0.3333, 0.0000, 1.0000, 0.2858, 0.0000],\n",
      "        [0.7000, 0.5336, 0.0000, 1.0000, 1.0000, 0.1364, 0.0000],\n",
      "        [0.7000, 0.6567, 0.6667, 1.0000, 0.0000, 0.5991, 1.0000]]) tensor([3, 6, 6, 2, 6, 6, 2, 4])\n"
     ]
    }
   ],
   "source": [
    "x_train = torch.tensor(train_dataset.drop('CreditLevel',axis=1).values.astype('float32'))\n",
    "y_train = torch.tensor(train_dataset['CreditLevel'].values)\n",
    "train_tensor = TensorDataset(x_train,y_train)\n",
    "n_train = int(len(train_tensor)*0.8)\n",
    "n_valid = len(train_tensor) - n_train\n",
    "ds_train,ds_valid = random_split(train_tensor,[n_train,n_valid])\n",
    "dl_train = DataLoader(ds_train,batch_size = 8,shuffle=True)\n",
    "dl_valid = DataLoader(ds_valid,batch_size = 8,shuffle=False)\n",
    "\n",
    "for features,labels in dl_train:\n",
    "    print(features,labels)\n",
    "    break"
   ]
  },
  {
   "cell_type": "code",
   "execution_count": 3,
   "id": "dbf2076d",
   "metadata": {},
   "outputs": [
    {
     "name": "stdout",
     "output_type": "stream",
     "text": [
      "Net(\n",
      "  (hidden1): Linear(in_features=7, out_features=10, bias=True)\n",
      "  (act1): ReLU()\n",
      "  (hidden2): Linear(in_features=10, out_features=8, bias=True)\n",
      "  (act2): ReLU()\n",
      "  (hidden3): Linear(in_features=8, out_features=10, bias=True)\n",
      "  (act3): Softmax(dim=1)\n",
      ")\n"
     ]
    }
   ],
   "source": [
    "import torch.nn as nn\n",
    "import torch.nn.functional as F\n",
    "from torch.nn.init import kaiming_uniform_,xavier_uniform_\n",
    "\n",
    "class Net(nn.Module):\n",
    "    def __init__(self,n_inputs):\n",
    "        super(Net, self).__init__()\n",
    "        # input to first hidden layer\n",
    "        self.hidden1 = nn.Linear(n_inputs, 10)\n",
    "        kaiming_uniform_(self.hidden1.weight, nonlinearity='relu')\n",
    "        self.act1 = nn.ReLU()\n",
    "        # second hidden layer\n",
    "        self.hidden2 = nn.Linear(10, 8)\n",
    "        kaiming_uniform_(self.hidden2.weight, nonlinearity='relu')\n",
    "        self.act2 = nn.ReLU()\n",
    "        # third hidden layer and output\n",
    "        self.hidden3 = nn.Linear(8, 10)\n",
    "        xavier_uniform_(self.hidden3.weight)\n",
    "        self.act3 = nn.Softmax(dim=1)\n",
    "    \n",
    "    def forward(self,X):\n",
    "         # input to first hidden layer\n",
    "        X = self.hidden1(X)\n",
    "        X = self.act1(X)\n",
    "        # second hidden layer\n",
    "        X = self.hidden2(X)\n",
    "        X = self.act2(X)\n",
    "        # output layer\n",
    "        X = self.hidden3(X)\n",
    "        X = self.act3(X)\n",
    "        return X\n",
    "\n",
    "model = Net(7)\n",
    "print(model)"
   ]
  },
  {
   "cell_type": "code",
   "execution_count": 4,
   "id": "fa04d6c6",
   "metadata": {},
   "outputs": [],
   "source": [
    "#define a Loss function and optimizer\n",
    "import torch.optim as optim\n",
    "\n",
    "criterion = nn.CrossEntropyLoss()\n",
    "optimizer = optim.SGD(model.parameters(), lr=0.001, momentum=0.9)"
   ]
  },
  {
   "cell_type": "code",
   "execution_count": 5,
   "id": "e12eb43a",
   "metadata": {},
   "outputs": [
    {
     "name": "stdout",
     "output_type": "stream",
     "text": [
      "[1,     1] loss: 0.023\n",
      "[1,   101] loss: 2.309\n",
      "[1,   201] loss: 2.305\n",
      "[1,   301] loss: 2.294\n",
      "[1,   401] loss: 2.292\n",
      "[1,   501] loss: 2.286\n",
      "[1,   601] loss: 2.276\n",
      "[1,   701] loss: 2.275\n",
      "[1,   801] loss: 2.264\n",
      "[2,     1] loss: 0.022\n",
      "[2,   101] loss: 2.253\n",
      "[2,   201] loss: 2.257\n",
      "[2,   301] loss: 2.255\n",
      "[2,   401] loss: 2.246\n",
      "[2,   501] loss: 2.252\n",
      "[2,   601] loss: 2.231\n",
      "[2,   701] loss: 2.237\n",
      "[2,   801] loss: 2.252\n",
      "[3,     1] loss: 0.021\n",
      "[3,   101] loss: 2.230\n",
      "[3,   201] loss: 2.226\n",
      "[3,   301] loss: 2.225\n",
      "[3,   401] loss: 2.232\n",
      "[3,   501] loss: 2.225\n",
      "[3,   601] loss: 2.241\n",
      "[3,   701] loss: 2.224\n",
      "[3,   801] loss: 2.211\n",
      "[4,     1] loss: 0.022\n",
      "[4,   101] loss: 2.199\n",
      "[4,   201] loss: 2.226\n",
      "[4,   301] loss: 2.220\n",
      "[4,   401] loss: 2.216\n",
      "[4,   501] loss: 2.226\n",
      "[4,   601] loss: 2.218\n",
      "[4,   701] loss: 2.223\n",
      "[4,   801] loss: 2.226\n",
      "[5,     1] loss: 0.022\n",
      "[5,   101] loss: 2.221\n",
      "[5,   201] loss: 2.219\n",
      "[5,   301] loss: 2.218\n",
      "[5,   401] loss: 2.216\n",
      "[5,   501] loss: 2.220\n",
      "[5,   601] loss: 2.219\n",
      "[5,   701] loss: 2.216\n",
      "[5,   801] loss: 2.208\n"
     ]
    }
   ],
   "source": [
    "# Train the network\n",
    "num_epochs = 5\n",
    "for epoch in range(num_epochs):\n",
    "    running_loss = 0.0\n",
    "    for i, (inputs,targets) in enumerate(dl_train):\n",
    "        optimizer.zero_grad()\n",
    "        outputs = model(inputs)\n",
    "        loss = criterion(outputs,targets)\n",
    "        loss.backward()\n",
    "        optimizer.step()\n",
    "        \n",
    "        # print statistics\n",
    "        running_loss += loss.item()\n",
    "        if i % 100 == 0:   \n",
    "            print('[%d, %5d] loss: %.3f' %\n",
    "                  (epoch + 1, i + 1, running_loss / 100))\n",
    "            running_loss = 0.0"
   ]
  },
  {
   "cell_type": "code",
   "execution_count": 8,
   "id": "3c235129",
   "metadata": {},
   "outputs": [
    {
     "data": {
      "text/plain": [
       "20.77777777777778"
      ]
     },
     "execution_count": 8,
     "metadata": {},
     "output_type": "execute_result"
    }
   ],
   "source": [
    "# model test\n",
    "model.eval()\n",
    "accuracy = 0.0\n",
    "total = 0.0\n",
    "with torch.no_grad():\n",
    "    for data in dl_valid:\n",
    "        inputs,targets = data\n",
    "        outputs = model(inputs)\n",
    "        _,predicted = torch.max(outputs.data,1)\n",
    "        total += targets.size(0)\n",
    "        accuracy += (predicted == targets).sum().item()\n",
    "\n",
    "accuracy = (100*accuracy/total)\n",
    "accuracy"
   ]
  }
 ],
 "metadata": {
  "kernelspec": {
   "display_name": "Python 3",
   "language": "python",
   "name": "python3"
  },
  "language_info": {
   "codemirror_mode": {
    "name": "ipython",
    "version": 3
   },
   "file_extension": ".py",
   "mimetype": "text/x-python",
   "name": "python",
   "nbconvert_exporter": "python",
   "pygments_lexer": "ipython3",
   "version": "3.8.8"
  }
 },
 "nbformat": 4,
 "nbformat_minor": 5
}
